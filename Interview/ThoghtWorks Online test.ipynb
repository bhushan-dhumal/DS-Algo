{
 "cells": [
  {
   "cell_type": "code",
   "execution_count": 1,
   "metadata": {},
   "outputs": [],
   "source": [
    "import requests"
   ]
  },
  {
   "cell_type": "code",
   "execution_count": 38,
   "metadata": {},
   "outputs": [
    {
     "data": {
      "text/plain": [
       "{'stage': '2/4',\n",
       " 'statement': 'Return the count of words in the paragraph.',\n",
       " 'instructions': \"You can 'GET' the input from /challenge/input and output should be 'POST' json to /challenge/output. Important note: The time between request 'GET' input and 'POST' requests should not exceed 2 secs.\",\n",
       " 'sampleInput': {'input': {'text': 'Sunset is the time of day when our sky meets the outer space solar winds. There are blue, pink, and purple swirls, spinning and twisting, like clouds of balloons caught in a blender. The sun moves slowly to hide behind the line of horizon, while the moon races to take its place in prominence atop the night sky. People slow to a crawl, entranced, fully forgetting the deeds that still must be done. There is a coolness, a calmness, when the sun does set.'}},\n",
       " 'sampleOutput': {'output': {'wordCount': 84}}}"
      ]
     },
     "execution_count": 38,
     "metadata": {},
     "output_type": "execute_result"
    }
   ],
   "source": [
    "URL = \"https://http-hunt.thoughtworks-labs.net/challenge\"\n",
    " \n",
    "# defining a params dict for the parameters to be sent to the API \n",
    "headers = {'userId':\"hty5Pd66_\"} \n",
    "  \n",
    "# sending get request and saving the response as response object \n",
    "r = requests.get(url = URL, headers = headers) \n",
    "  \n",
    "# extracting data in json format \n",
    "data = r.json()\n",
    "data"
   ]
  },
  {
   "cell_type": "code",
   "execution_count": 37,
   "metadata": {},
   "outputs": [
    {
     "name": "stdout",
     "output_type": "stream",
     "text": [
      "{'text': \"Most of its text is made up from sections 1.10.32–3 of Cicero's De finibus bonorum et malorum (On the Boundaries of Goods and Evils; finibus may also be translated as purposes). Neque porro quisquam est qui dolorem ipsum quia dolor sit amet, consectetur, adipisci velit is the first known version ('Neither is there anyone who loves grief itself since it is grief and thus wants to obtain it'). It was found by Richard McClintock, a philologist, director of publications at Hampden-Sydney College in Virginia; he searched for citings of consectetur in classical Latin literature, a term of remarkably low frequency in that literary corpus.\"}\n",
      "{'text': \"Most of its text is made up from sections 1.10.32–3 of Cicero's De finibus bonorum et malorum (On the Boundaries of Goods and Evils; finibus may also be translated as purposes). Neque porro quisquam est qui dolorem ipsum quia dolor sit amet, consectetur, adipisci velit is the first known version ('Neither is there anyone who loves grief itself since it is grief and thus wants to obtain it'). It was found by Richard McClintock, a philologist, director of publications at Hampden-Sydney College in Virginia; he searched for citings of consectetur in classical Latin literature, a term of remarkably low frequency in that literary corpus.\"}\n",
      "639\n"
     ]
    },
    {
     "data": {
      "text/plain": [
       "<Response [200]>"
      ]
     },
     "execution_count": 37,
     "metadata": {},
     "output_type": "execute_result"
    }
   ],
   "source": [
    "URLi = \"https://http-hunt.thoughtworks-labs.net/challenge/input\"\n",
    "ri = requests.get(url = URLi, headers = headers)\n",
    "\n",
    "data_i = ri.json()\n",
    "res = len(data_i['text'])\n",
    "print(data_i)\n",
    "print(res)\n",
    "URLo = \"https://http-hunt.thoughtworks-labs.net/challenge/output\"\n",
    "data_o = {\"count\" : res}\n",
    "ro = requests.post(url = URLo, headers = headers,data=data_o)\n",
    "ro\n"
   ]
  },
  {
   "cell_type": "code",
   "execution_count": 46,
   "metadata": {},
   "outputs": [
    {
     "name": "stdout",
     "output_type": "stream",
     "text": [
      "{'text': 'It was July 21, 1969, and Neil Armstrong awoke with a start. It was the day he would become the first human being to ever walk on the moon. The journey had begun several days earlier, when on July 16th, the Apollo 11 launched from Earth headed into outer space. On board with Neil Armstrong were Michael Collins and Buzz Aldrin. The crew landed on the moon in the Sea of Tranquility a day before the actual walk. Upon Neil’s first step onto the moon’s surface, he declared, “That’s one small step for man, one giant leap for mankind.” It sure was!'}\n",
      "['It', 'was', 'July', '21,', '1969,', 'and', 'Neil', 'Armstrong', 'awoke', 'with', 'a', 'start.', 'It', 'was', 'the', 'day', 'he', 'would', 'become', 'the', 'first', 'human', 'being', 'to', 'ever', 'walk', 'on', 'the', 'moon.', 'The', 'journey', 'had', 'begun', 'several', 'days', 'earlier,', 'when', 'on', 'July', '16th,', 'the', 'Apollo', '11', 'launched', 'from', 'Earth', 'headed', 'into', 'outer', 'space.', 'On', 'board', 'with', 'Neil', 'Armstrong', 'were', 'Michael', 'Collins', 'and', 'Buzz', 'Aldrin.', 'The', 'crew', 'landed', 'on', 'the', 'moon', 'in', 'the', 'Sea', 'of', 'Tranquility', 'a', 'day', 'before', 'the', 'actual', 'walk.', 'Upon', 'Neil’s', 'first', 'step', 'onto', 'the', 'moon’s', 'surface,', 'he', 'declared,', '“That’s', 'one', 'small', 'step', 'for', 'man,', 'one', 'giant', 'leap', 'for', 'mankind.”', 'It', 'sure', 'was!']\n",
      "102\n"
     ]
    },
    {
     "data": {
      "text/plain": [
       "<Response [200]>"
      ]
     },
     "execution_count": 46,
     "metadata": {},
     "output_type": "execute_result"
    }
   ],
   "source": [
    "#GET\n",
    "URLi = \"https://http-hunt.thoughtworks-labs.net/challenge/input\"\n",
    "ri = requests.get(url = URLi, headers = headers)\n",
    "\n",
    "data_i = ri.json()\n",
    "\n",
    "#logic\n",
    "import string\n",
    "data_i = ri.json()\n",
    "print(data_i)\n",
    "l = data_i['text'].split()\n",
    "print(l)\n",
    "# no_punctuation = lambda a : not bool([x for x in string.punctuation if x in a])\n",
    "# o =[a for a in l if no_punctuation(a)]\n",
    "# print(o)\n",
    "res = len(l)\n",
    "print(res)\n",
    "# Post\n",
    "URLo = \"https://http-hunt.thoughtworks-labs.net/challenge/output\"\n",
    "data_o = {\"wordCount\" : res}\n",
    "ro = requests.post(url = URLo, headers = headers,data=data_o)\n",
    "ro"
   ]
  },
  {
   "cell_type": "code",
   "execution_count": 47,
   "metadata": {},
   "outputs": [
    {
     "data": {
      "text/plain": [
       "{'stage': '3/4',\n",
       " 'statement': 'Return the number of sentences in a paragraph. Sentences will always be terminated by either fullstop (.) or question mark (?).There will be a space after each sentence, except last one',\n",
       " 'instructions': \"You can 'GET' the input from /challenge/input and output should be 'POST' json to /challenge/output. Important note: The time between request 'GET' input and 'POST' requests should not exceed 2 secs.\",\n",
       " 'sampleInput': {'input': {'text': 'How often do you find yourself using an interrogation point in your everyday writing? What about an eroteme? You might be surprised to know that both of these appeared in the last two sentences. These terms might be unfamiliar, but you may know this punctuation mark by its more common name: the question mark. The question mark has a very simple function in writing—it indicates a question. If a sentence ends with a question mark, then it is asking a question, just as the name suggests.'}},\n",
       " 'sampleOutput': {'output': {'sentenceCount': 6}}}"
      ]
     },
     "execution_count": 47,
     "metadata": {},
     "output_type": "execute_result"
    }
   ],
   "source": [
    "URL = \"https://http-hunt.thoughtworks-labs.net/challenge\"\n",
    " \n",
    "# defining a params dict for the parameters to be sent to the API \n",
    "headers = {'userId':\"hty5Pd66_\"} \n",
    "  \n",
    "# sending get request and saving the response as response object \n",
    "r = requests.get(url = URL, headers = headers) \n",
    "  \n",
    "# extracting data in json format \n",
    "data = r.json()\n",
    "data"
   ]
  },
  {
   "cell_type": "code",
   "execution_count": 48,
   "metadata": {},
   "outputs": [
    {
     "name": "stdout",
     "output_type": "stream",
     "text": [
      "{'text': \"One of the consequences of centralised governance is the tendency to standardise on single technology platforms. Experience shows that this approach is constricting - not every problem is a nail and not every solution a hammer. We prefer using the right tool for the job and while monolithic applications can take advantage of different languages to a certain extent, it isn't that common. Splitting the monolith's components out into services we have a choice when building each of them. You want to use Node.js to standup a simple reports page? Go for it. C++ for a particularly gnarly near-real-time component? Fine. You want to swap in a different flavour of database that better suits the read behaviour of one component? We have the technology to rebuild him.\"}\n",
      "One of the consequences of centralised governance is the tendency to standardise on single technology platforms. Experience shows that this approach is constricting - not every problem is a nail and not every solution a hammer. We prefer using the right tool for the job and while monolithic applications can take advantage of different languages to a certain extent, it isn't that common. Splitting the monolith's components out into services we have a choice when building each of them. You want to use Node.js to standup a simple reports page? Go for it. C++ for a particularly gnarly near-real-time component? Fine. You want to swap in a different flavour of database that better suits the read behaviour of one component? We have the technology to rebuild him.\n",
      "10\n"
     ]
    },
    {
     "data": {
      "text/plain": [
       "<Response [200]>"
      ]
     },
     "execution_count": 48,
     "metadata": {},
     "output_type": "execute_result"
    }
   ],
   "source": [
    "#GET\n",
    "URLi = \"https://http-hunt.thoughtworks-labs.net/challenge/input\"\n",
    "ri = requests.get(url = URLi, headers = headers)\n",
    "\n",
    "data_i = ri.json()\n",
    "\n",
    "#logic\n",
    "import re\n",
    "print(data_i)\n",
    "text = data_i['text']\n",
    "print(text)\n",
    "l = [x for x in text.split() if x.endswith('?') or x.endswith('.')]\n",
    "\n",
    "res = len(l)\n",
    "print(res)\n",
    "# Post\n",
    "URLo = \"https://http-hunt.thoughtworks-labs.net/challenge/output\"\n",
    "data_o = {\"sentenceCount\" : res}\n",
    "ro = requests.post(url = URLo, headers = headers,data=data_o)\n",
    "ro"
   ]
  },
  {
   "cell_type": "code",
   "execution_count": 49,
   "metadata": {},
   "outputs": [
    {
     "data": {
      "text/plain": [
       "{'stage': '4/4',\n",
       " 'statement': 'Return the number of vowels in the paragraph. Ex. {a: 20, e: 32, i: 19, o: 2, u: 15}',\n",
       " 'instructions': \"You can 'GET' the input from /challenge/input and output should be 'POST' json to /challenge/output. Important note: The time between request 'GET' input and 'POST' requests should not exceed 2 secs.\",\n",
       " 'sampleInput': {'input': {'text': 'Sunset is the time of day when our sky meets the outer space solar winds. There are blue, pink, and purple swirls, spinning and twisting, like clouds of balloons caught in a blender. The sun moves slowly to hide behind the line of horizon, while the moon races to take its place in prominence atop the night sky. People slow to a crawl, entranced, fully forgetting the deeds that still must be done. There is a coolness, a calmness, when the sun does set.'}},\n",
       " 'sampleOutput': {'output': {'a': 20, 'e': 49, 'i': 23, 'o': 27, 'u': 11}}}"
      ]
     },
     "execution_count": 49,
     "metadata": {},
     "output_type": "execute_result"
    }
   ],
   "source": [
    "URL = \"https://http-hunt.thoughtworks-labs.net/challenge\"\n",
    " \n",
    "# defining a params dict for the parameters to be sent to the API \n",
    "headers = {'userId':\"hty5Pd66_\"} \n",
    "  \n",
    "# sending get request and saving the response as response object \n",
    "r = requests.get(url = URL, headers = headers) \n",
    "  \n",
    "# extracting data in json format \n",
    "data = r.json()\n",
    "data"
   ]
  },
  {
   "cell_type": "code",
   "execution_count": 52,
   "metadata": {},
   "outputs": [
    {
     "name": "stdout",
     "output_type": "stream",
     "text": [
      "{'text': 'Where a longer direct question comes at the end of a sentence, start the question with a capital letter and precede the question with a colon or a comma. The question is, Have you completed your application for a Board position? See how the indirect question asks whether or not you have and the direct question above asks have you? That makes the difference in whether to use the question mark or not. Does the position include typing? drafting documents? scheduling appointments? (This implies that the position may include one or more, but not necessarily all, of these things.'}\n",
      "Where a longer direct question comes at the end of a sentence, start the question with a capital letter and precede the question with a colon or a comma. The question is, Have you completed your application for a Board position? See how the indirect question asks whether or not you have and the direct question above asks have you? That makes the difference in whether to use the question mark or not. Does the position include typing? drafting documents? scheduling appointments? (This implies that the position may include one or more, but not necessarily all, of these things.\n",
      "{'a': 31, 'e': 63, 'i': 36, 'o': 43, 'u': 17}\n"
     ]
    },
    {
     "data": {
      "text/plain": [
       "<Response [200]>"
      ]
     },
     "execution_count": 52,
     "metadata": {},
     "output_type": "execute_result"
    }
   ],
   "source": [
    "#GET\n",
    "URLi = \"https://http-hunt.thoughtworks-labs.net/challenge/input\"\n",
    "ri = requests.get(url = URLi, headers = headers)\n",
    "\n",
    "data_i = ri.json()\n",
    "\n",
    "#logic\n",
    "import re\n",
    "print(data_i)\n",
    "text = data_i['text']\n",
    "print(text)\n",
    "res = dict(a=0,e=0,i=0,o=0,u=0)\n",
    "for x in text.lower():\n",
    "    if x in res.keys():\n",
    "        res[x]+=1\n",
    "\n",
    "print(res)\n",
    "# Post\n",
    "URLo = \"https://http-hunt.thoughtworks-labs.net/challenge/output\"\n",
    "\n",
    "ro = requests.post(url = URLo, headers = headers,data=res)\n",
    "ro"
   ]
  },
  {
   "cell_type": "code",
   "execution_count": 53,
   "metadata": {},
   "outputs": [
    {
     "data": {
      "text/plain": [
       "{'message': 'You have already finished all the stages, someone from TW will call you!'}"
      ]
     },
     "execution_count": 53,
     "metadata": {},
     "output_type": "execute_result"
    }
   ],
   "source": [
    "URL = \"https://http-hunt.thoughtworks-labs.net/challenge\"\n",
    " \n",
    "# defining a params dict for the parameters to be sent to the API \n",
    "headers = {'userId':\"hty5Pd66_\"} \n",
    "  \n",
    "# sending get request and saving the response as response object \n",
    "r = requests.get(url = URL, headers = headers) \n",
    "  \n",
    "# extracting data in json format \n",
    "data = r.json()\n",
    "data"
   ]
  }
 ],
 "metadata": {
  "kernelspec": {
   "display_name": "Python 3",
   "language": "python",
   "name": "python3"
  },
  "language_info": {
   "codemirror_mode": {
    "name": "ipython",
    "version": 3
   },
   "file_extension": ".py",
   "mimetype": "text/x-python",
   "name": "python",
   "nbconvert_exporter": "python",
   "pygments_lexer": "ipython3",
   "version": "3.7.3"
  }
 },
 "nbformat": 4,
 "nbformat_minor": 2
}
